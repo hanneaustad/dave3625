{
 "cells": [
  {
   "cell_type": "code",
   "execution_count": 1,
   "metadata": {},
   "outputs": [],
   "source": [
    "# Gruppemedlemmer\n",
    "# Hanne Austad s375093\n",
    "# Jaspreet Kaur s375164\n",
    "# Maryam Alam s375091\n",
    "# Masooma Zahrah Azhar Khanum s374971\n",
    "\n",
    "# 1) We have chosen the Tesla \"Predict stock market price for TESLA\" use case\n",
    "# 2 + 3) Given the different nature of regression and classification algorithms, we have chosen to use a regression algorithm in this case. \n",
    "# This is because regression algorithms are used for predicting continuous numerical values, while classification algorithms are used for predicting categorical labels. \n",
    "# Since the assignment asks us to predict the price, and not whether it increases or decreases (which would be a categorical prediction), a regression algorithm seems to be the logical choice. "
   ]
  },
  {
   "cell_type": "code",
   "execution_count": null,
   "metadata": {},
   "outputs": [],
   "source": [
    "# Importing modules\n",
    "import pandas as pd\n",
    "import numpy as np\n",
    "import matplotlib.pyplot as plt\n",
    "import seaborn as sns\n",
    "\n",
    "# Machine learning modules\n",
    "from sklearn.model_selection import train_test_split\n",
    "from sklearn.linear_model import LinearRegression\n",
    "from sklearn.metrics import mean_absolute_error\n"
   ]
  }
 ],
 "metadata": {
  "kernelspec": {
   "display_name": "dave3625",
   "language": "python",
   "name": "python3"
  },
  "language_info": {
   "codemirror_mode": {
    "name": "ipython",
    "version": 3
   },
   "file_extension": ".py",
   "mimetype": "text/x-python",
   "name": "python",
   "nbconvert_exporter": "python",
   "pygments_lexer": "ipython3",
   "version": "3.8.19"
  }
 },
 "nbformat": 4,
 "nbformat_minor": 2
}
