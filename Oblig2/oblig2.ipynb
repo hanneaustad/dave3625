{
 "cells": [
  {
   "cell_type": "code",
   "execution_count": 33,
   "metadata": {},
   "outputs": [],
   "source": [
    "# Gruppemedlemmer\n",
    "# Hanne Austad s375093\n",
    "# Jaspreet Kaur s375164\n",
    "# Maryam Alam s375091\n",
    "# Masooma Zahrah Azhar Khanum s374971\n",
    "\n",
    "# TASK: Make a prediction algorithm which predicts the price of this stock on a specific date. Input will be date and output should be price of that stock (close value in the data file). You should also show the prediction percentage score.\n",
    "\n",
    "# 1) We have chosen the Tesla \"Predict stock market price for TESLA\" use case\n",
    "# 2 + 3) Given the different nature of regression and classification algorithms, we have chosen to use a regression algorithm in this case. \n",
    "# This is because regression algorithms are used for predicting continuous numerical values, while classification algorithms are used for predicting categorical labels. \n",
    "# Since the assignment asks us to predict the price, and not whether it increases or decreases (which would be a categorical prediction), a regression algorithm seems to be the logical choice. "
   ]
  },
  {
   "cell_type": "code",
   "execution_count": 34,
   "metadata": {},
   "outputs": [],
   "source": [
    "# Importing modules\n",
    "import pandas as pd\n",
    "import numpy as np\n",
    "import matplotlib.pyplot as plt\n",
    "import seaborn as sns\n",
    "from sklearn.model_selection import train_test_split\n",
    "from sklearn.linear_model import LinearRegression\n",
    "from sklearn.metrics import mean_absolute_error, r2_score"
   ]
  },
  {
   "cell_type": "code",
   "execution_count": 35,
   "metadata": {},
   "outputs": [],
   "source": [
    "# Load the Tesla dataset into the notebook and convert the date format\n",
    "df = pd.read_csv('data2/TSLA.csv')\n",
    "df['Date'] = pd.to_datetime(df['Date'])"
   ]
  },
  {
   "cell_type": "code",
   "execution_count": 36,
   "metadata": {},
   "outputs": [
    {
     "name": "stdout",
     "output_type": "stream",
     "text": [
      "(2647, 7)\n",
      "        Date   Open   High    Low  Close  Adj Close    Volume\n",
      "0 2010-06-29  3.800  5.000  3.508  4.778      4.778  93831500\n",
      "1 2010-06-30  5.158  6.084  4.660  4.766      4.766  85935500\n",
      "2 2010-07-01  5.000  5.184  4.054  4.392      4.392  41094000\n",
      "3 2010-07-02  4.600  4.620  3.742  3.840      3.840  25699000\n",
      "4 2010-07-06  4.000  4.000  3.166  3.222      3.222  34334500\n"
     ]
    }
   ],
   "source": [
    "# Filter data to include only dates from 2010 to 2020 (we will predict dates in 2021, and for that reason we do not want the model to have access to dates from that year)\n",
    "# We have to predict the stock price on a date we actually have data on, to see our prediction % and how accurate our algorithm is.\n",
    "filterDf = df[(df['Date'] >= '2010-01-01') & (df['Date'] < '2021-01-01')].copy()\n",
    "\n",
    "# Printing number of rows/columns and top 5 rows to get an overview\n",
    "print(filterDf.shape)\n",
    "print (filterDf.head(5))"
   ]
  },
  {
   "cell_type": "code",
   "execution_count": 37,
   "metadata": {},
   "outputs": [
    {
     "data": {
      "text/plain": [
       "Date         0\n",
       "Open         0\n",
       "High         0\n",
       "Low          0\n",
       "Close        0\n",
       "Adj Close    0\n",
       "Volume       0\n",
       "dtype: int64"
      ]
     },
     "execution_count": 37,
     "metadata": {},
     "output_type": "execute_result"
    }
   ],
   "source": [
    "# Now let's look for null values to see if the dataset needs to be cleaned first.\n",
    "df.isnull().sum()"
   ]
  },
  {
   "cell_type": "code",
   "execution_count": 38,
   "metadata": {},
   "outputs": [],
   "source": [
    "# Selecting variables, then we ssplit the dataset into training and testing, and set a random state for reproducibility.\n",
    "# We will leave out Adj Close and Volume in our model, and only use Open/High/Low, since the task does not specify which columns must be used.\n",
    "x = filterDf[['Open', 'High', 'Low']]\n",
    "y = filterDf['Close']"
   ]
  },
  {
   "cell_type": "code",
   "execution_count": 39,
   "metadata": {},
   "outputs": [],
   "source": [
    "# Split the data into training and testing sets\n",
    "x_train, x_test, y_train, y_test = train_test_split(x, y, test_size=0.3, random_state=42)\n",
    "\n",
    "# 4 + 5) Train the model and make a prediction\n",
    "# First we initialize Linear Regression, and then we start training our model.\n",
    "model = LinearRegression()\n",
    "model.fit(x_train, y_train);"
   ]
  },
  {
   "cell_type": "code",
   "execution_count": 40,
   "metadata": {},
   "outputs": [
    {
     "name": "stdout",
     "output_type": "stream",
     "text": [
      "Predicted stock price for Tesla on 2021-08-04: $719.75\n",
      "Real Tesla stock price on 2021-08-04: $710.92\n",
      "Prediction score: 99.94%\n",
      "Mean absolute error, MAE: 0.64\n"
     ]
    }
   ],
   "source": [
    "# Now it's time to predict the stock price for a  future date that the filtered dataset does not have access to. Let's say 2021-08-04, which is a real date in the full dataset.\n",
    "# Lets retrieve the data for 2021-08-04\n",
    "dato = pd.to_datetime('2021-08-04')\n",
    "values = df[df['Date'] == dato][['Open', 'High', 'Low']]\n",
    "\n",
    "# Make the prediction\n",
    "predictedPrice = model.predict(values)\n",
    "\n",
    "# Find actual closing price for 2021-08-04\n",
    "realValue = df[df['Date'] == dato]['Close'].values \n",
    "\n",
    "# Find prediction score and MAE\n",
    "r2 = r2_score(y_test, model.predict(x_test)) * 100\n",
    "mae = mean_absolute_error(y_test, model.predict(x_test))\n",
    "\n",
    "# Time to see the results - the predicted + actual price, and our prediction score + MAE evaluation.\n",
    "print(f\"Predicted stock price for Tesla on {dato.date()}: ${predictedPrice[0]:.2f}\")\n",
    "print(f\"Real Tesla stock price on {dato.date()}: ${realValue[0]:.2f}\")\n",
    "print(f\"Prediction score: {r2:.2f}%\")\n",
    "print(f\"Mean absolute error, MAE: {mae:.2f}\")\n"
   ]
  }
 ],
 "metadata": {
  "kernelspec": {
   "display_name": "dave3625",
   "language": "python",
   "name": "python3"
  },
  "language_info": {
   "codemirror_mode": {
    "name": "ipython",
    "version": 3
   },
   "file_extension": ".py",
   "mimetype": "text/x-python",
   "name": "python",
   "nbconvert_exporter": "python",
   "pygments_lexer": "ipython3",
   "version": "3.8.19"
  }
 },
 "nbformat": 4,
 "nbformat_minor": 2
}
