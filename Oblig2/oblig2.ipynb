{
 "cells": [
  {
   "cell_type": "code",
   "execution_count": 32,
   "metadata": {},
   "outputs": [],
   "source": [
    "# Gruppemedlemmer\n",
    "# Hanne Austad s375093\n",
    "# Jaspreet Kaur s375164\n",
    "# Maryam Alam s375091\n",
    "# Masooma Zahrah Azhar Khanum s374971\n",
    "\n",
    "# TASK: Make a prediction algorithm which predicts the price of this stock on a specific date. Input will be date and output should be price of that stock (close value in the data file). You should also show the prediction percentage score.\n",
    "\n",
    "# 1) We have chosen the Tesla \"Predict stock market price for TESLA\" use case\n",
    "# 2 + 3) Given the different nature of regression and classification algorithms, we have chosen to use a regression algorithm in this case. \n",
    "# This is because regression algorithms are used for predicting continuous numerical values, while classification algorithms are used for predicting categorical labels. \n",
    "# Since the assignment asks us to predict the price, and not whether it increases or decreases (which would be a categorical prediction), a regression algorithm seems to be the logical choice. "
   ]
  },
  {
   "cell_type": "code",
   "execution_count": 33,
   "metadata": {},
   "outputs": [],
   "source": [
    "# Importing modules\n",
    "import pandas as pd\n",
    "import numpy as np\n",
    "import matplotlib.pyplot as plt\n",
    "import seaborn as sns\n",
    "\n",
    "# Machine learning modules\n",
    "from sklearn.model_selection import train_test_split\n",
    "from sklearn.linear_model import LinearRegression\n",
    "from sklearn.metrics import mean_absolute_error, r2_score\n"
   ]
  },
  {
   "cell_type": "code",
   "execution_count": 34,
   "metadata": {},
   "outputs": [
    {
     "name": "stdout",
     "output_type": "stream",
     "text": [
      "(2845, 7)\n",
      "         Date   Open   High    Low  Close  Adj Close    Volume\n",
      "0  2010-06-29  3.800  5.000  3.508  4.778      4.778  93831500\n",
      "1  2010-06-30  5.158  6.084  4.660  4.766      4.766  85935500\n",
      "2  2010-07-01  5.000  5.184  4.054  4.392      4.392  41094000\n",
      "3  2010-07-02  4.600  4.620  3.742  3.840      3.840  25699000\n",
      "4  2010-07-06  4.000  4.000  3.166  3.222      3.222  34334500\n"
     ]
    }
   ],
   "source": [
    "# Reading CSV\n",
    "Tesla_df = pd.read_csv('data2/TSLA.csv')\n",
    "\n",
    "# Printing number of rows/columns and top 5 rows to get an overview\n",
    "print(Tesla_df.shape)\n",
    "print (Tesla_df.head(5))"
   ]
  },
  {
   "cell_type": "code",
   "execution_count": 35,
   "metadata": {},
   "outputs": [
    {
     "data": {
      "text/plain": [
       "Date         0\n",
       "Open         0\n",
       "High         0\n",
       "Low          0\n",
       "Close        0\n",
       "Adj Close    0\n",
       "Volume       0\n",
       "dtype: int64"
      ]
     },
     "execution_count": 35,
     "metadata": {},
     "output_type": "execute_result"
    }
   ],
   "source": [
    "# Checking for null values to see if the dataset needs to be cleaned first\n",
    "Tesla_df.isnull().sum()"
   ]
  },
  {
   "cell_type": "code",
   "execution_count": 36,
   "metadata": {},
   "outputs": [],
   "source": [
    "# Let's split the dataset into training and testing, and set a random state for reproducibility.\n",
    "TeslaTrain = Tesla_df[['Open','High','Low','Adj Close','Volume']]\n",
    "TeslaTest = Tesla_df['Close']\n",
    "TeslaTrain_train, TeslaTrain_test, TeslaTest_train, TeslaTest_test = train_test_split(TeslaTrain, TeslaTest, test_size=0.3, random_state=42)"
   ]
  },
  {
   "cell_type": "code",
   "execution_count": 37,
   "metadata": {},
   "outputs": [],
   "source": [
    "# Initialize Linear Regression\n",
    "model = LinearRegression()\n",
    "\n",
    "# 4 + 5) Train the model and make a prediction\n",
    "model.fit(TeslaTrain_train, TeslaTest_train)\n",
    "predictedPrice = model.predict(TeslaTrain_test) # Predicts closing prices for all rows in the dataset"
   ]
  },
  {
   "cell_type": "code",
   "execution_count": 38,
   "metadata": {},
   "outputs": [
    {
     "name": "stdout",
     "output_type": "stream",
     "text": [
      "Predicted price for 2010-07-26 is 4.190000000000344\n",
      "Actual price was 4.19\n",
      "Predicted price for 2010-08-04 is 4.2520000000003435\n",
      "Actual price was 4.252\n"
     ]
    }
   ],
   "source": [
    "# Let's now predict the price for 2 random dates that exist in the test set\n",
    "randomDates = Tesla_df.loc[Tesla_df.index.isin(TeslaTrain_test.index), 'Date']\n",
    "\n",
    "dato = randomDates.iloc[0]\n",
    "valgtDato = TeslaTrain_test.loc[Tesla_df['Date'] == dato, ['Open', 'High', 'Low', 'Adj Close', 'Volume']]\n",
    "datoPredictedPrice = model.predict(valgtDato)\n",
    "\n",
    "dato2 = randomDates.iloc[1]\n",
    "valgtDato2 = TeslaTrain_test.loc[Tesla_df['Date'] == dato2, ['Open', 'High', 'Low', 'Adj Close', 'Volume']]\n",
    "datoPredictedPrice2 = model.predict(valgtDato2)\n",
    "\n",
    "# Print the predictions and actual values\n",
    "print(f'Predicted price for {dato} is {datoPredictedPrice[0]}')\n",
    "print(f'Actual price was {Tesla_df.loc[Tesla_df[\"Date\"] == dato, \"Close\"].values[0]}')\n",
    "\n",
    "print(f'Predicted price for {dato2} is {datoPredictedPrice2[0]}')\n",
    "print(f'Actual price was {Tesla_df.loc[Tesla_df[\"Date\"] == dato2, \"Close\"].values[0]}')\n"
   ]
  },
  {
   "cell_type": "code",
   "execution_count": 39,
   "metadata": {},
   "outputs": [
    {
     "name": "stdout",
     "output_type": "stream",
     "text": [
      "MAE: 3.741295589751467e-13\n",
      "Prediction percentage score (R^2): 100.00%\n"
     ]
    }
   ],
   "source": [
    "# Evaluating the model - we will use Mean Absolute Error (MAE) to evaluate and R2 for percentage score\n",
    "mae = mean_absolute_error(TeslaTest_test, predictedPrice)\n",
    "r2 = r2_score(TeslaTest_test, predictedPrice)\n",
    "print(f\"MAE: {mae}\")\n",
    "print(f\"Prediction percentage score (R^2): {r2 * 100:.2f}%\")"
   ]
  }
 ],
 "metadata": {
  "kernelspec": {
   "display_name": "dave3625",
   "language": "python",
   "name": "python3"
  },
  "language_info": {
   "codemirror_mode": {
    "name": "ipython",
    "version": 3
   },
   "file_extension": ".py",
   "mimetype": "text/x-python",
   "name": "python",
   "nbconvert_exporter": "python",
   "pygments_lexer": "ipython3",
   "version": "3.8.19"
  }
 },
 "nbformat": 4,
 "nbformat_minor": 2
}
