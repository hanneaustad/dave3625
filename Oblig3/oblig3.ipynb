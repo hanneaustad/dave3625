{
 "cells": [
  {
   "cell_type": "code",
   "execution_count": null,
   "metadata": {},
   "outputs": [],
   "source": [
    "# Gruppemedlemmer\n",
    "# Hanne Austad s375093\n",
    "# Jaspreet Kaur s375164\n",
    "# Maryam Alam s375091\n",
    "# Masooma Zahrah Azhar Khanum s374971"
   ]
  }
 ],
 "metadata": {
  "kernelspec": {
   "display_name": "dave3625",
   "language": "python",
   "name": "python3"
  },
  "language_info": {
   "name": "python",
   "version": "3.8.19"
  }
 },
 "nbformat": 4,
 "nbformat_minor": 2
}
